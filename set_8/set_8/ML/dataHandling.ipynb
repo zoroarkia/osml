{
  "nbformat": 4,
  "nbformat_minor": 0,
  "metadata": {
    "colab": {
      "provenance": []
    },
    "kernelspec": {
      "name": "python3",
      "display_name": "Python 3"
    },
    "language_info": {
      "name": "python"
    }
  },
  "cells": [
    {
      "cell_type": "code",
      "execution_count": 4,
      "metadata": {
        "colab": {
          "base_uri": "https://localhost:8080/"
        },
        "id": "1cVQzr-fQetL",
        "outputId": "f0767318-c89c-45c6-e38b-840cdf6bb32f"
      },
      "outputs": [
        {
          "output_type": "stream",
          "name": "stdout",
          "text": [
            "--- Initial DataFrame ---\n",
            "    Product  Quantity        Price  InStock  Rating\n",
            "0    Laptop         1  1200.500000     True     4.5\n",
            "1     Mouse         2    25.000000     True     NaN\n",
            "2  Keyboard         1    75.989998    False     3.8\n",
            "3   Monitor         1   300.000000     True     5.0\n"
          ]
        }
      ],
      "source": [
        "import pandas as pd\n",
        "import numpy as np\n",
        "\n",
        "# Create a DataFrame with custom data types\n",
        "data = {\n",
        "    'Product': pd.Series(['Laptop', 'Mouse', 'Keyboard', 'Monitor'], dtype='object'),\n",
        "    'Quantity': pd.Series([1, 2, 1, 1], dtype='int16'),\n",
        "    'Price': pd.Series([1200.50, 25.00, 75.99, 300.00], dtype='float32'),\n",
        "    'InStock': pd.Series([True, True, False, True], dtype='bool'),\n",
        "    'Rating': pd.Series([4.5, np.nan, 3.8, 5.0], dtype='float32') # Added a NaN for .isna() example\n",
        "}\n",
        "df = pd.DataFrame(data)\n",
        "\n",
        "print(\"--- Initial DataFrame ---\")\n",
        "print(df)"
      ]
    },
    {
      "cell_type": "code",
      "source": [
        "print(\"--- df.shape ---\")\n",
        "print(f\"Shape (rows, columns): {df.shape}\")"
      ],
      "metadata": {
        "colab": {
          "base_uri": "https://localhost:8080/"
        },
        "id": "fICAunKcSuJo",
        "outputId": "297e772b-07c1-4ffd-ab93-e776df93cbed"
      },
      "execution_count": 5,
      "outputs": [
        {
          "output_type": "stream",
          "name": "stdout",
          "text": [
            "--- df.shape ---\n",
            "Shape (rows, columns): (4, 5)\n"
          ]
        }
      ]
    },
    {
      "cell_type": "code",
      "source": [
        "print(\"--- df.info() ---\")\n",
        "df.info()"
      ],
      "metadata": {
        "colab": {
          "base_uri": "https://localhost:8080/"
        },
        "id": "uTuUattNYbA7",
        "outputId": "1a4366e2-8aaf-4176-edd0-7ada890bf419"
      },
      "execution_count": 6,
      "outputs": [
        {
          "output_type": "stream",
          "name": "stdout",
          "text": [
            "--- df.info() ---\n",
            "<class 'pandas.core.frame.DataFrame'>\n",
            "RangeIndex: 4 entries, 0 to 3\n",
            "Data columns (total 5 columns):\n",
            " #   Column    Non-Null Count  Dtype  \n",
            "---  ------    --------------  -----  \n",
            " 0   Product   4 non-null      object \n",
            " 1   Quantity  4 non-null      int16  \n",
            " 2   Price     4 non-null      float32\n",
            " 3   InStock   4 non-null      bool   \n",
            " 4   Rating    3 non-null      float32\n",
            "dtypes: bool(1), float32(2), int16(1), object(1)\n",
            "memory usage: 208.0+ bytes\n"
          ]
        }
      ]
    },
    {
      "cell_type": "code",
      "source": [
        "print(\"--- df.describe() ---\")\n",
        "print(df.describe())"
      ],
      "metadata": {
        "colab": {
          "base_uri": "https://localhost:8080/"
        },
        "id": "OJjRI0qlYa-d",
        "outputId": "b7505396-6935-4bd5-83db-69cc8c6c920b"
      },
      "execution_count": 7,
      "outputs": [
        {
          "output_type": "stream",
          "name": "stdout",
          "text": [
            "--- df.describe() ---\n",
            "       Quantity        Price    Rating\n",
            "count      4.00     4.000000  3.000000\n",
            "mean       1.25   400.372498  4.433333\n",
            "std        0.50   546.628174  0.602771\n",
            "min        1.00    25.000000  3.800000\n",
            "25%        1.00    63.242498  4.150000\n",
            "50%        1.00   187.994995  4.500000\n",
            "75%        1.25   525.125000  4.750000\n",
            "max        2.00  1200.500000  5.000000\n"
          ]
        }
      ]
    },
    {
      "cell_type": "code",
      "source": [
        "print(\"--- df.head(2) (First 2 rows) ---\")\n",
        "print(df.head(2))\n",
        "\n",
        "print(\"\\n--- df.tail(1) (Last row) ---\")\n",
        "print(df.tail(1))"
      ],
      "metadata": {
        "colab": {
          "base_uri": "https://localhost:8080/"
        },
        "id": "QosSwB8JYa4h",
        "outputId": "6d72aa57-917a-48fc-a805-28b10f7d30c5"
      },
      "execution_count": 10,
      "outputs": [
        {
          "output_type": "stream",
          "name": "stdout",
          "text": [
            "--- df.head(2) (First 2 rows) ---\n",
            "  Product  Quantity   Price  InStock  Rating\n",
            "0  Laptop         1  1200.5     True     4.5\n",
            "1   Mouse         2    25.0     True     NaN\n",
            "\n",
            "--- df.tail(1) (Last row) ---\n",
            "   Product  Quantity  Price  InStock  Rating\n",
            "3  Monitor         1  300.0     True     5.0\n"
          ]
        }
      ]
    },
    {
      "cell_type": "code",
      "source": [
        "print(\"--- df.loc[row_label, column_label] ---\")\n",
        "print(\"Row with index 0, 'Product' column:\", df.loc[0, 'Product'])\n",
        "print(\"Rows where Quantity > 1:\\n\", df.loc[df['Quantity'] > 1])"
      ],
      "metadata": {
        "colab": {
          "base_uri": "https://localhost:8080/"
        },
        "id": "ALNvzg4oYa2j",
        "outputId": "0eb28228-9e7c-4337-d0ee-a2748b12619c"
      },
      "execution_count": 11,
      "outputs": [
        {
          "output_type": "stream",
          "name": "stdout",
          "text": [
            "--- df.loc[row_label, column_label] ---\n",
            "Row with index 0, 'Product' column: Laptop\n",
            "Rows where Quantity > 1:\n",
            "   Product  Quantity  Price  InStock  Rating\n",
            "1   Mouse         2   25.0     True     NaN\n"
          ]
        }
      ]
    },
    {
      "cell_type": "code",
      "source": [
        "print(\"--- df.iloc[row_position, column_position] ---\")\n",
        "print(\"Value at row 1, column 0:\", df.iloc[1, 0])\n",
        "print(\"Rows 0-2, columns 1-3:\\n\", df.iloc[0:3, 1:4])"
      ],
      "metadata": {
        "colab": {
          "base_uri": "https://localhost:8080/"
        },
        "id": "658AarHRYa0J",
        "outputId": "82ec68bc-cb26-43c3-83c3-c02f75d57c1f"
      },
      "execution_count": 12,
      "outputs": [
        {
          "output_type": "stream",
          "name": "stdout",
          "text": [
            "--- df.iloc[row_position, column_position] ---\n",
            "Value at row 1, column 0: Mouse\n",
            "Rows 0-2, columns 1-3:\n",
            "    Quantity        Price  InStock\n",
            "0         1  1200.500000     True\n",
            "1         2    25.000000     True\n",
            "2         1    75.989998    False\n"
          ]
        }
      ]
    },
    {
      "cell_type": "code",
      "source": [
        "print(\"--- df.columns ---\")\n",
        "print(\"Column names:\", df.columns.tolist())"
      ],
      "metadata": {
        "colab": {
          "base_uri": "https://localhost:8080/"
        },
        "id": "2fIzaHzYYaya",
        "outputId": "e22867cf-4218-4c6f-fb68-e1c4c8296e06"
      },
      "execution_count": 13,
      "outputs": [
        {
          "output_type": "stream",
          "name": "stdout",
          "text": [
            "--- df.columns ---\n",
            "Column names: ['Product', 'Quantity', 'Price', 'InStock', 'Rating']\n"
          ]
        }
      ]
    },
    {
      "cell_type": "code",
      "source": [
        "print(\"--- df.dtypes ---\")\n",
        "print(df.dtypes)"
      ],
      "metadata": {
        "colab": {
          "base_uri": "https://localhost:8080/"
        },
        "id": "7-3hidyHYatT",
        "outputId": "f2d2c4ac-fd58-42a9-a059-27949d5bb751"
      },
      "execution_count": 14,
      "outputs": [
        {
          "output_type": "stream",
          "name": "stdout",
          "text": [
            "--- df.dtypes ---\n",
            "Product      object\n",
            "Quantity      int16\n",
            "Price       float32\n",
            "InStock        bool\n",
            "Rating      float32\n",
            "dtype: object\n"
          ]
        }
      ]
    },
    {
      "cell_type": "code",
      "source": [
        "print(\"--- Adding a new row ---\")\n",
        "new_row = pd.DataFrame([['Webcam', 3, 50.00, True, 4.2]], columns=df.columns)\n",
        "df = pd.concat([df, new_row], ignore_index=True)\n",
        "print(\"DataFrame after adding new row:\")\n",
        "print(df)"
      ],
      "metadata": {
        "colab": {
          "base_uri": "https://localhost:8080/"
        },
        "id": "82i2j48NYajb",
        "outputId": "efc7a53d-66e4-4471-8776-61f66dd6acc1"
      },
      "execution_count": 15,
      "outputs": [
        {
          "output_type": "stream",
          "name": "stdout",
          "text": [
            "--- Adding a new row ---\n",
            "DataFrame after adding new row:\n",
            "    Product  Quantity        Price  InStock  Rating\n",
            "0    Laptop         1  1200.500000     True     4.5\n",
            "1     Mouse         2    25.000000     True     NaN\n",
            "2  Keyboard         1    75.989998    False     3.8\n",
            "3   Monitor         1   300.000000     True     5.0\n",
            "4    Webcam         3    50.000000     True     4.2\n"
          ]
        }
      ]
    },
    {
      "cell_type": "code",
      "source": [
        "# Saving the DataFrame to a CSV file\n",
        "file_path = '/content/sample_data/products_data.csv'\n",
        "df.to_csv(file_path, index=False) # index=False prevents writing the DataFrame index as a column\n",
        "print(f\"DataFrame saved to '{file_path}' successfully.\")"
      ],
      "metadata": {
        "colab": {
          "base_uri": "https://localhost:8080/"
        },
        "id": "D9R3aat5YaPp",
        "outputId": "203f1983-0d4f-42c9-b0e8-f709c25d6d05"
      },
      "execution_count": 17,
      "outputs": [
        {
          "output_type": "stream",
          "name": "stdout",
          "text": [
            "DataFrame saved to '/content/sample_data/products_data.csv' successfully.\n"
          ]
        }
      ]
    }
  ]
}